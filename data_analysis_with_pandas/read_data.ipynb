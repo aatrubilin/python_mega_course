{
 "cells": [
  {
   "cell_type": "code",
   "execution_count": 1,
   "metadata": {
    "pycharm": {
     "is_executing": false
    }
   },
   "outputs": [
    {
     "data": {
      "text/plain": "['.ipynb_checkpoints',\n 'read_data.ipynb',\n 'supermarkets-commas.txt',\n 'supermarkets-semi-colons.txt',\n 'supermarkets.csv',\n 'supermarkets.json',\n 'supermarkets.xlsx',\n 'testing.ipynb']"
     },
     "metadata": {},
     "output_type": "execute_result",
     "execution_count": 1
    }
   ],
   "source": [
    "import os\n",
    "os.listdir()"
   ]
  },
  {
   "cell_type": "code",
   "execution_count": 2,
   "metadata": {
    "pycharm": {
     "is_executing": false
    }
   },
   "outputs": [],
   "source": [
    "import pandas"
   ]
  },
  {
   "cell_type": "code",
   "execution_count": 3,
   "metadata": {
    "pycharm": {
     "is_executing": false
    }
   },
   "outputs": [
    {
     "data": {
      "text/plain": "   ID          Address           City             State Country         Name  \\\n0   1     3666 21st St  San Francisco          CA 94114     USA      Madeira   \n1   2   735 Dolores St  San Francisco          CA 94119     USA  Bready Shop   \n2   3      332 Hill St  San Francisco  California 94114     USA  Super River   \n3   4     3995 23rd St  San Francisco          CA 94114     USA   Ben's Shop   \n4   5  1056 Sanchez St  San Francisco        California     USA      Sanchez   \n5   6  551 Alvarado St  San Francisco          CA 94114     USA   Richvalley   \n\n   Employees  \n0          8  \n1         15  \n2         25  \n3         10  \n4         12  \n5         20  ",
      "text/html": "<div>\n<style scoped>\n    .dataframe tbody tr th:only-of-type {\n        vertical-align: middle;\n    }\n\n    .dataframe tbody tr th {\n        vertical-align: top;\n    }\n\n    .dataframe thead th {\n        text-align: right;\n    }\n</style>\n<table border=\"1\" class=\"dataframe\">\n  <thead>\n    <tr style=\"text-align: right;\">\n      <th></th>\n      <th>ID</th>\n      <th>Address</th>\n      <th>City</th>\n      <th>State</th>\n      <th>Country</th>\n      <th>Name</th>\n      <th>Employees</th>\n    </tr>\n  </thead>\n  <tbody>\n    <tr>\n      <th>0</th>\n      <td>1</td>\n      <td>3666 21st St</td>\n      <td>San Francisco</td>\n      <td>CA 94114</td>\n      <td>USA</td>\n      <td>Madeira</td>\n      <td>8</td>\n    </tr>\n    <tr>\n      <th>1</th>\n      <td>2</td>\n      <td>735 Dolores St</td>\n      <td>San Francisco</td>\n      <td>CA 94119</td>\n      <td>USA</td>\n      <td>Bready Shop</td>\n      <td>15</td>\n    </tr>\n    <tr>\n      <th>2</th>\n      <td>3</td>\n      <td>332 Hill St</td>\n      <td>San Francisco</td>\n      <td>California 94114</td>\n      <td>USA</td>\n      <td>Super River</td>\n      <td>25</td>\n    </tr>\n    <tr>\n      <th>3</th>\n      <td>4</td>\n      <td>3995 23rd St</td>\n      <td>San Francisco</td>\n      <td>CA 94114</td>\n      <td>USA</td>\n      <td>Ben's Shop</td>\n      <td>10</td>\n    </tr>\n    <tr>\n      <th>4</th>\n      <td>5</td>\n      <td>1056 Sanchez St</td>\n      <td>San Francisco</td>\n      <td>California</td>\n      <td>USA</td>\n      <td>Sanchez</td>\n      <td>12</td>\n    </tr>\n    <tr>\n      <th>5</th>\n      <td>6</td>\n      <td>551 Alvarado St</td>\n      <td>San Francisco</td>\n      <td>CA 94114</td>\n      <td>USA</td>\n      <td>Richvalley</td>\n      <td>20</td>\n    </tr>\n  </tbody>\n</table>\n</div>"
     },
     "metadata": {},
     "output_type": "execute_result",
     "execution_count": 3
    }
   ],
   "source": [
    "df1 = pandas.read_csv(\"supermarkets.csv\")\n",
    "df1"
   ]
  },
  {
   "cell_type": "code",
   "execution_count": 4,
   "metadata": {
    "pycharm": {
     "is_executing": false
    }
   },
   "outputs": [
    {
     "data": {
      "text/plain": "   ID          Address           City             State Country         Name  \\\n0   1     3666 21st St  San Francisco          CA 94114     USA      Madeira   \n1   2   735 Dolores St  San Francisco          CA 94119     USA  Bready Shop   \n2   3      332 Hill St  San Francisco  California 94114     USA  Super River   \n3   4     3995 23rd St  San Francisco          CA 94114     USA   Ben's Shop   \n4   5  1056 Sanchez St  San Francisco        California     USA      Sanchez   \n5   6  551 Alvarado St  San Francisco          CA 94114     USA   Richvalley   \n\n   Employees  \n0          8  \n1         15  \n2         25  \n3         10  \n4         12  \n5         20  ",
      "text/html": "<div>\n<style scoped>\n    .dataframe tbody tr th:only-of-type {\n        vertical-align: middle;\n    }\n\n    .dataframe tbody tr th {\n        vertical-align: top;\n    }\n\n    .dataframe thead th {\n        text-align: right;\n    }\n</style>\n<table border=\"1\" class=\"dataframe\">\n  <thead>\n    <tr style=\"text-align: right;\">\n      <th></th>\n      <th>ID</th>\n      <th>Address</th>\n      <th>City</th>\n      <th>State</th>\n      <th>Country</th>\n      <th>Name</th>\n      <th>Employees</th>\n    </tr>\n  </thead>\n  <tbody>\n    <tr>\n      <th>0</th>\n      <td>1</td>\n      <td>3666 21st St</td>\n      <td>San Francisco</td>\n      <td>CA 94114</td>\n      <td>USA</td>\n      <td>Madeira</td>\n      <td>8</td>\n    </tr>\n    <tr>\n      <th>1</th>\n      <td>2</td>\n      <td>735 Dolores St</td>\n      <td>San Francisco</td>\n      <td>CA 94119</td>\n      <td>USA</td>\n      <td>Bready Shop</td>\n      <td>15</td>\n    </tr>\n    <tr>\n      <th>2</th>\n      <td>3</td>\n      <td>332 Hill St</td>\n      <td>San Francisco</td>\n      <td>California 94114</td>\n      <td>USA</td>\n      <td>Super River</td>\n      <td>25</td>\n    </tr>\n    <tr>\n      <th>3</th>\n      <td>4</td>\n      <td>3995 23rd St</td>\n      <td>San Francisco</td>\n      <td>CA 94114</td>\n      <td>USA</td>\n      <td>Ben's Shop</td>\n      <td>10</td>\n    </tr>\n    <tr>\n      <th>4</th>\n      <td>5</td>\n      <td>1056 Sanchez St</td>\n      <td>San Francisco</td>\n      <td>California</td>\n      <td>USA</td>\n      <td>Sanchez</td>\n      <td>12</td>\n    </tr>\n    <tr>\n      <th>5</th>\n      <td>6</td>\n      <td>551 Alvarado St</td>\n      <td>San Francisco</td>\n      <td>CA 94114</td>\n      <td>USA</td>\n      <td>Richvalley</td>\n      <td>20</td>\n    </tr>\n  </tbody>\n</table>\n</div>"
     },
     "metadata": {},
     "output_type": "execute_result",
     "execution_count": 4
    }
   ],
   "source": [
    "df2 = pandas.read_json(\"supermarkets.json\")\n",
    "df2"
   ]
  },
  {
   "cell_type": "code",
   "execution_count": 5,
   "metadata": {
    "pycharm": {
     "is_executing": false
    }
   },
   "outputs": [
    {
     "data": {
      "text/plain": "   ID          Address           City             State Country  \\\n0   1     3666 21st St  San Francisco          CA 94114     USA   \n1   2   735 Dolores St  San Francisco          CA 94119     USA   \n2   3      332 Hill St  San Francisco  California 94114     USA   \n3   4     3995 23rd St  San Francisco          CA 94114     USA   \n4   5  1056 Sanchez St  San Francisco        California     USA   \n5   6  551 Alvarado St  San Francisco          CA 94114     USA   \n\n  Supermarket Name  Number of Employees  \n0          Madeira                    8  \n1      Bready Shop                   15  \n2      Super River                   25  \n3       Ben's Shop                   10  \n4          Sanchez                   12  \n5       Richvalley                   20  ",
      "text/html": "<div>\n<style scoped>\n    .dataframe tbody tr th:only-of-type {\n        vertical-align: middle;\n    }\n\n    .dataframe tbody tr th {\n        vertical-align: top;\n    }\n\n    .dataframe thead th {\n        text-align: right;\n    }\n</style>\n<table border=\"1\" class=\"dataframe\">\n  <thead>\n    <tr style=\"text-align: right;\">\n      <th></th>\n      <th>ID</th>\n      <th>Address</th>\n      <th>City</th>\n      <th>State</th>\n      <th>Country</th>\n      <th>Supermarket Name</th>\n      <th>Number of Employees</th>\n    </tr>\n  </thead>\n  <tbody>\n    <tr>\n      <th>0</th>\n      <td>1</td>\n      <td>3666 21st St</td>\n      <td>San Francisco</td>\n      <td>CA 94114</td>\n      <td>USA</td>\n      <td>Madeira</td>\n      <td>8</td>\n    </tr>\n    <tr>\n      <th>1</th>\n      <td>2</td>\n      <td>735 Dolores St</td>\n      <td>San Francisco</td>\n      <td>CA 94119</td>\n      <td>USA</td>\n      <td>Bready Shop</td>\n      <td>15</td>\n    </tr>\n    <tr>\n      <th>2</th>\n      <td>3</td>\n      <td>332 Hill St</td>\n      <td>San Francisco</td>\n      <td>California 94114</td>\n      <td>USA</td>\n      <td>Super River</td>\n      <td>25</td>\n    </tr>\n    <tr>\n      <th>3</th>\n      <td>4</td>\n      <td>3995 23rd St</td>\n      <td>San Francisco</td>\n      <td>CA 94114</td>\n      <td>USA</td>\n      <td>Ben's Shop</td>\n      <td>10</td>\n    </tr>\n    <tr>\n      <th>4</th>\n      <td>5</td>\n      <td>1056 Sanchez St</td>\n      <td>San Francisco</td>\n      <td>California</td>\n      <td>USA</td>\n      <td>Sanchez</td>\n      <td>12</td>\n    </tr>\n    <tr>\n      <th>5</th>\n      <td>6</td>\n      <td>551 Alvarado St</td>\n      <td>San Francisco</td>\n      <td>CA 94114</td>\n      <td>USA</td>\n      <td>Richvalley</td>\n      <td>20</td>\n    </tr>\n  </tbody>\n</table>\n</div>"
     },
     "metadata": {},
     "output_type": "execute_result",
     "execution_count": 5
    }
   ],
   "source": [
    "df3 = pandas.read_excel(\"supermarkets.xlsx\", sheet_name=0)\n",
    "df3"
   ]
  },
  {
   "cell_type": "code",
   "execution_count": 6,
   "metadata": {
    "pycharm": {
     "is_executing": false
    }
   },
   "outputs": [
    {
     "data": {
      "text/plain": "   ID          Address           City             State Country         Name  \\\n0   1     3666 21st St  San Francisco          CA 94114     USA      Madeira   \n1   2   735 Dolores St  San Francisco          CA 94119     USA  Bready Shop   \n2   3      332 Hill St  San Francisco  California 94114     USA  Super River   \n3   4     3995 23rd St  San Francisco          CA 94114     USA   Ben's Shop   \n4   5  1056 Sanchez St  San Francisco        California     USA      Sanchez   \n5   6  551 Alvarado St  San Francisco          CA 94114     USA   Richvalley   \n\n   Employees  \n0          8  \n1         15  \n2         25  \n3         10  \n4         12  \n5         20  ",
      "text/html": "<div>\n<style scoped>\n    .dataframe tbody tr th:only-of-type {\n        vertical-align: middle;\n    }\n\n    .dataframe tbody tr th {\n        vertical-align: top;\n    }\n\n    .dataframe thead th {\n        text-align: right;\n    }\n</style>\n<table border=\"1\" class=\"dataframe\">\n  <thead>\n    <tr style=\"text-align: right;\">\n      <th></th>\n      <th>ID</th>\n      <th>Address</th>\n      <th>City</th>\n      <th>State</th>\n      <th>Country</th>\n      <th>Name</th>\n      <th>Employees</th>\n    </tr>\n  </thead>\n  <tbody>\n    <tr>\n      <th>0</th>\n      <td>1</td>\n      <td>3666 21st St</td>\n      <td>San Francisco</td>\n      <td>CA 94114</td>\n      <td>USA</td>\n      <td>Madeira</td>\n      <td>8</td>\n    </tr>\n    <tr>\n      <th>1</th>\n      <td>2</td>\n      <td>735 Dolores St</td>\n      <td>San Francisco</td>\n      <td>CA 94119</td>\n      <td>USA</td>\n      <td>Bready Shop</td>\n      <td>15</td>\n    </tr>\n    <tr>\n      <th>2</th>\n      <td>3</td>\n      <td>332 Hill St</td>\n      <td>San Francisco</td>\n      <td>California 94114</td>\n      <td>USA</td>\n      <td>Super River</td>\n      <td>25</td>\n    </tr>\n    <tr>\n      <th>3</th>\n      <td>4</td>\n      <td>3995 23rd St</td>\n      <td>San Francisco</td>\n      <td>CA 94114</td>\n      <td>USA</td>\n      <td>Ben's Shop</td>\n      <td>10</td>\n    </tr>\n    <tr>\n      <th>4</th>\n      <td>5</td>\n      <td>1056 Sanchez St</td>\n      <td>San Francisco</td>\n      <td>California</td>\n      <td>USA</td>\n      <td>Sanchez</td>\n      <td>12</td>\n    </tr>\n    <tr>\n      <th>5</th>\n      <td>6</td>\n      <td>551 Alvarado St</td>\n      <td>San Francisco</td>\n      <td>CA 94114</td>\n      <td>USA</td>\n      <td>Richvalley</td>\n      <td>20</td>\n    </tr>\n  </tbody>\n</table>\n</div>"
     },
     "metadata": {},
     "output_type": "execute_result",
     "execution_count": 6
    }
   ],
   "source": [
    "df4 = pandas.read_csv(\"supermarkets-commas.txt\")\n",
    "df4"
   ]
  },
  {
   "cell_type": "code",
   "execution_count": 7,
   "metadata": {
    "pycharm": {
     "is_executing": false
    }
   },
   "outputs": [
    {
     "data": {
      "text/plain": "   ID          Address           City             State Country          Name  \\\n0   1     3666 21st St  San Francisco          CA 94114     USA       Madeira   \n1   2   735 Dolores St  San Francisco          CA 94119     USA   Bready Shop   \n2   3      332 Hill St  San Francisco  California 94114     USA   Super River   \n3   4     3995 23rd St  San Francisco          CA 94114     USA    Ben's Shop   \n4   5  1056 Sanchez St  San Francisco        California     USA       Sanchez   \n5   6  551 Alvarado St  San Francisco          CA 94114     USA    Richvalley   \n\n   Employees  \n0          8  \n1         15  \n2         25  \n3         10  \n4         12  \n5         20  ",
      "text/html": "<div>\n<style scoped>\n    .dataframe tbody tr th:only-of-type {\n        vertical-align: middle;\n    }\n\n    .dataframe tbody tr th {\n        vertical-align: top;\n    }\n\n    .dataframe thead th {\n        text-align: right;\n    }\n</style>\n<table border=\"1\" class=\"dataframe\">\n  <thead>\n    <tr style=\"text-align: right;\">\n      <th></th>\n      <th>ID</th>\n      <th>Address</th>\n      <th>City</th>\n      <th>State</th>\n      <th>Country</th>\n      <th>Name</th>\n      <th>Employees</th>\n    </tr>\n  </thead>\n  <tbody>\n    <tr>\n      <th>0</th>\n      <td>1</td>\n      <td>3666 21st St</td>\n      <td>San Francisco</td>\n      <td>CA 94114</td>\n      <td>USA</td>\n      <td>Madeira</td>\n      <td>8</td>\n    </tr>\n    <tr>\n      <th>1</th>\n      <td>2</td>\n      <td>735 Dolores St</td>\n      <td>San Francisco</td>\n      <td>CA 94119</td>\n      <td>USA</td>\n      <td>Bready Shop</td>\n      <td>15</td>\n    </tr>\n    <tr>\n      <th>2</th>\n      <td>3</td>\n      <td>332 Hill St</td>\n      <td>San Francisco</td>\n      <td>California 94114</td>\n      <td>USA</td>\n      <td>Super River</td>\n      <td>25</td>\n    </tr>\n    <tr>\n      <th>3</th>\n      <td>4</td>\n      <td>3995 23rd St</td>\n      <td>San Francisco</td>\n      <td>CA 94114</td>\n      <td>USA</td>\n      <td>Ben's Shop</td>\n      <td>10</td>\n    </tr>\n    <tr>\n      <th>4</th>\n      <td>5</td>\n      <td>1056 Sanchez St</td>\n      <td>San Francisco</td>\n      <td>California</td>\n      <td>USA</td>\n      <td>Sanchez</td>\n      <td>12</td>\n    </tr>\n    <tr>\n      <th>5</th>\n      <td>6</td>\n      <td>551 Alvarado St</td>\n      <td>San Francisco</td>\n      <td>CA 94114</td>\n      <td>USA</td>\n      <td>Richvalley</td>\n      <td>20</td>\n    </tr>\n  </tbody>\n</table>\n</div>"
     },
     "metadata": {},
     "output_type": "execute_result",
     "execution_count": 7
    }
   ],
   "source": [
    "df5 = pandas.read_csv(\"supermarkets-semi-colons.txt\", sep=\";\")\n",
    "df5"
   ]
  },
  {
   "cell_type": "code",
   "execution_count": 8,
   "metadata": {
    "pycharm": {
     "is_executing": false
    }
   },
   "outputs": [
    {
     "data": {
      "text/plain": "            Address           City             State Country          Name  \\\nID                                                                           \n1      3666 21st St  San Francisco          CA 94114     USA       Madeira   \n2    735 Dolores St  San Francisco          CA 94119     USA   Bready Shop   \n3       332 Hill St  San Francisco  California 94114     USA   Super River   \n4      3995 23rd St  San Francisco          CA 94114     USA    Ben's Shop   \n5   1056 Sanchez St  San Francisco        California     USA       Sanchez   \n6   551 Alvarado St  San Francisco          CA 94114     USA    Richvalley   \n\n    Employees  \nID             \n1           8  \n2          15  \n3          25  \n4          10  \n5          12  \n6          20  ",
      "text/html": "<div>\n<style scoped>\n    .dataframe tbody tr th:only-of-type {\n        vertical-align: middle;\n    }\n\n    .dataframe tbody tr th {\n        vertical-align: top;\n    }\n\n    .dataframe thead th {\n        text-align: right;\n    }\n</style>\n<table border=\"1\" class=\"dataframe\">\n  <thead>\n    <tr style=\"text-align: right;\">\n      <th></th>\n      <th>Address</th>\n      <th>City</th>\n      <th>State</th>\n      <th>Country</th>\n      <th>Name</th>\n      <th>Employees</th>\n    </tr>\n    <tr>\n      <th>ID</th>\n      <th></th>\n      <th></th>\n      <th></th>\n      <th></th>\n      <th></th>\n      <th></th>\n    </tr>\n  </thead>\n  <tbody>\n    <tr>\n      <th>1</th>\n      <td>3666 21st St</td>\n      <td>San Francisco</td>\n      <td>CA 94114</td>\n      <td>USA</td>\n      <td>Madeira</td>\n      <td>8</td>\n    </tr>\n    <tr>\n      <th>2</th>\n      <td>735 Dolores St</td>\n      <td>San Francisco</td>\n      <td>CA 94119</td>\n      <td>USA</td>\n      <td>Bready Shop</td>\n      <td>15</td>\n    </tr>\n    <tr>\n      <th>3</th>\n      <td>332 Hill St</td>\n      <td>San Francisco</td>\n      <td>California 94114</td>\n      <td>USA</td>\n      <td>Super River</td>\n      <td>25</td>\n    </tr>\n    <tr>\n      <th>4</th>\n      <td>3995 23rd St</td>\n      <td>San Francisco</td>\n      <td>CA 94114</td>\n      <td>USA</td>\n      <td>Ben's Shop</td>\n      <td>10</td>\n    </tr>\n    <tr>\n      <th>5</th>\n      <td>1056 Sanchez St</td>\n      <td>San Francisco</td>\n      <td>California</td>\n      <td>USA</td>\n      <td>Sanchez</td>\n      <td>12</td>\n    </tr>\n    <tr>\n      <th>6</th>\n      <td>551 Alvarado St</td>\n      <td>San Francisco</td>\n      <td>CA 94114</td>\n      <td>USA</td>\n      <td>Richvalley</td>\n      <td>20</td>\n    </tr>\n  </tbody>\n</table>\n</div>"
     },
     "metadata": {},
     "output_type": "execute_result",
     "execution_count": 8
    }
   ],
   "source": [
    "df5.set_index(\"ID\", inplace=True)\n",
    "df5"
   ]
  },
  {
   "cell_type": "code",
   "execution_count": 9,
   "metadata": {
    "pycharm": {
     "is_executing": false
    }
   },
   "outputs": [
    {
     "data": {
      "text/plain": "            Name  Employees\nID                         \n3    Super River         25\n4     Ben's Shop         10",
      "text/html": "<div>\n<style scoped>\n    .dataframe tbody tr th:only-of-type {\n        vertical-align: middle;\n    }\n\n    .dataframe tbody tr th {\n        vertical-align: top;\n    }\n\n    .dataframe thead th {\n        text-align: right;\n    }\n</style>\n<table border=\"1\" class=\"dataframe\">\n  <thead>\n    <tr style=\"text-align: right;\">\n      <th></th>\n      <th>Name</th>\n      <th>Employees</th>\n    </tr>\n    <tr>\n      <th>ID</th>\n      <th></th>\n      <th></th>\n    </tr>\n  </thead>\n  <tbody>\n    <tr>\n      <th>3</th>\n      <td>Super River</td>\n      <td>25</td>\n    </tr>\n    <tr>\n      <th>4</th>\n      <td>Ben's Shop</td>\n      <td>10</td>\n    </tr>\n  </tbody>\n</table>\n</div>"
     },
     "metadata": {},
     "output_type": "execute_result",
     "execution_count": 9
    }
   ],
   "source": [
    "df5.loc[3:4, \"Name\": \"Employees\"]"
   ]
  },
  {
   "cell_type": "code",
   "execution_count": 10,
   "metadata": {
    "pycharm": {
     "is_executing": false
    }
   },
   "outputs": [
    {
     "data": {
      "text/plain": "' Super River'"
     },
     "metadata": {},
     "output_type": "execute_result",
     "execution_count": 10
    }
   ],
   "source": [
    "df5.loc[3, \"Name\"]"
   ]
  },
  {
   "cell_type": "code",
   "execution_count": 11,
   "metadata": {
    "pycharm": {
     "is_executing": false
    }
   },
   "outputs": [
    {
     "data": {
      "text/plain": "ID\n1       3666 21st St\n2     735 Dolores St\n3        332 Hill St\n4       3995 23rd St\n5    1056 Sanchez St\n6    551 Alvarado St\nName: Address, dtype: object"
     },
     "metadata": {},
     "output_type": "execute_result",
     "execution_count": 11
    }
   ],
   "source": [
    "df5.loc[:, \"Address\"]"
   ]
  },
  {
   "cell_type": "code",
   "execution_count": 12,
   "metadata": {
    "pycharm": {
     "is_executing": false
    }
   },
   "outputs": [
    {
     "data": {
      "text/plain": "[8, 15, 25, 10, 12, 20]"
     },
     "metadata": {},
     "output_type": "execute_result",
     "execution_count": 12
    }
   ],
   "source": [
    "list(df5.loc[:, \"Employees\"])"
   ]
  },
  {
   "cell_type": "code",
   "execution_count": 13,
   "metadata": {
    "pycharm": {
     "is_executing": false
    }
   },
   "outputs": [
    {
     "data": {
      "text/plain": "            Address           City             State Country          Name  \\\nID                                                                           \n1      3666 21st St  San Francisco          CA 94114     USA       Madeira   \n2    735 Dolores St  San Francisco          CA 94119     USA   Bready Shop   \n3       332 Hill St  San Francisco  California 94114     USA   Super River   \n4      3995 23rd St  San Francisco          CA 94114     USA    Ben's Shop   \n5   1056 Sanchez St  San Francisco        California     USA       Sanchez   \n6   551 Alvarado St  San Francisco          CA 94114     USA    Richvalley   \n\n    Employees  \nID             \n1           8  \n2          15  \n3          25  \n4          10  \n5          12  \n6          20  ",
      "text/html": "<div>\n<style scoped>\n    .dataframe tbody tr th:only-of-type {\n        vertical-align: middle;\n    }\n\n    .dataframe tbody tr th {\n        vertical-align: top;\n    }\n\n    .dataframe thead th {\n        text-align: right;\n    }\n</style>\n<table border=\"1\" class=\"dataframe\">\n  <thead>\n    <tr style=\"text-align: right;\">\n      <th></th>\n      <th>Address</th>\n      <th>City</th>\n      <th>State</th>\n      <th>Country</th>\n      <th>Name</th>\n      <th>Employees</th>\n    </tr>\n    <tr>\n      <th>ID</th>\n      <th></th>\n      <th></th>\n      <th></th>\n      <th></th>\n      <th></th>\n      <th></th>\n    </tr>\n  </thead>\n  <tbody>\n    <tr>\n      <th>1</th>\n      <td>3666 21st St</td>\n      <td>San Francisco</td>\n      <td>CA 94114</td>\n      <td>USA</td>\n      <td>Madeira</td>\n      <td>8</td>\n    </tr>\n    <tr>\n      <th>2</th>\n      <td>735 Dolores St</td>\n      <td>San Francisco</td>\n      <td>CA 94119</td>\n      <td>USA</td>\n      <td>Bready Shop</td>\n      <td>15</td>\n    </tr>\n    <tr>\n      <th>3</th>\n      <td>332 Hill St</td>\n      <td>San Francisco</td>\n      <td>California 94114</td>\n      <td>USA</td>\n      <td>Super River</td>\n      <td>25</td>\n    </tr>\n    <tr>\n      <th>4</th>\n      <td>3995 23rd St</td>\n      <td>San Francisco</td>\n      <td>CA 94114</td>\n      <td>USA</td>\n      <td>Ben's Shop</td>\n      <td>10</td>\n    </tr>\n    <tr>\n      <th>5</th>\n      <td>1056 Sanchez St</td>\n      <td>San Francisco</td>\n      <td>California</td>\n      <td>USA</td>\n      <td>Sanchez</td>\n      <td>12</td>\n    </tr>\n    <tr>\n      <th>6</th>\n      <td>551 Alvarado St</td>\n      <td>San Francisco</td>\n      <td>CA 94114</td>\n      <td>USA</td>\n      <td>Richvalley</td>\n      <td>20</td>\n    </tr>\n  </tbody>\n</table>\n</div>"
     },
     "metadata": {},
     "output_type": "execute_result",
     "execution_count": 13
    }
   ],
   "source": [
    "df5"
   ]
  },
  {
   "cell_type": "code",
   "execution_count": 14,
   "metadata": {
    "pycharm": {
     "is_executing": false
    }
   },
   "outputs": [
    {
     "data": {
      "text/plain": "          Name  Employees\nID                       \n4   Ben's Shop         10\n5      Sanchez         12\n6   Richvalley         20",
      "text/html": "<div>\n<style scoped>\n    .dataframe tbody tr th:only-of-type {\n        vertical-align: middle;\n    }\n\n    .dataframe tbody tr th {\n        vertical-align: top;\n    }\n\n    .dataframe thead th {\n        text-align: right;\n    }\n</style>\n<table border=\"1\" class=\"dataframe\">\n  <thead>\n    <tr style=\"text-align: right;\">\n      <th></th>\n      <th>Name</th>\n      <th>Employees</th>\n    </tr>\n    <tr>\n      <th>ID</th>\n      <th></th>\n      <th></th>\n    </tr>\n  </thead>\n  <tbody>\n    <tr>\n      <th>4</th>\n      <td>Ben's Shop</td>\n      <td>10</td>\n    </tr>\n    <tr>\n      <th>5</th>\n      <td>Sanchez</td>\n      <td>12</td>\n    </tr>\n    <tr>\n      <th>6</th>\n      <td>Richvalley</td>\n      <td>20</td>\n    </tr>\n  </tbody>\n</table>\n</div>"
     },
     "metadata": {},
     "output_type": "execute_result",
     "execution_count": 14
    }
   ],
   "source": [
    "df5.iloc[3:, 4:6]"
   ]
  },
  {
   "cell_type": "code",
   "execution_count": 15,
   "metadata": {
    "pycharm": {
     "is_executing": false
    }
   },
   "outputs": [
    {
     "data": {
      "text/plain": "            Address           City             State Country          Name  \\\nID                                                                           \n1      3666 21st St  San Francisco          CA 94114     USA       Madeira   \n2    735 Dolores St  San Francisco          CA 94119     USA   Bready Shop   \n3       332 Hill St  San Francisco  California 94114     USA   Super River   \n4      3995 23rd St  San Francisco          CA 94114     USA    Ben's Shop   \n5   1056 Sanchez St  San Francisco        California     USA       Sanchez   \n6   551 Alvarado St  San Francisco          CA 94114     USA    Richvalley   \n\n    Employees  \nID             \n1           8  \n2          15  \n3          25  \n4          10  \n5          12  \n6          20  ",
      "text/html": "<div>\n<style scoped>\n    .dataframe tbody tr th:only-of-type {\n        vertical-align: middle;\n    }\n\n    .dataframe tbody tr th {\n        vertical-align: top;\n    }\n\n    .dataframe thead th {\n        text-align: right;\n    }\n</style>\n<table border=\"1\" class=\"dataframe\">\n  <thead>\n    <tr style=\"text-align: right;\">\n      <th></th>\n      <th>Address</th>\n      <th>City</th>\n      <th>State</th>\n      <th>Country</th>\n      <th>Name</th>\n      <th>Employees</th>\n    </tr>\n    <tr>\n      <th>ID</th>\n      <th></th>\n      <th></th>\n      <th></th>\n      <th></th>\n      <th></th>\n      <th></th>\n    </tr>\n  </thead>\n  <tbody>\n    <tr>\n      <th>1</th>\n      <td>3666 21st St</td>\n      <td>San Francisco</td>\n      <td>CA 94114</td>\n      <td>USA</td>\n      <td>Madeira</td>\n      <td>8</td>\n    </tr>\n    <tr>\n      <th>2</th>\n      <td>735 Dolores St</td>\n      <td>San Francisco</td>\n      <td>CA 94119</td>\n      <td>USA</td>\n      <td>Bready Shop</td>\n      <td>15</td>\n    </tr>\n    <tr>\n      <th>3</th>\n      <td>332 Hill St</td>\n      <td>San Francisco</td>\n      <td>California 94114</td>\n      <td>USA</td>\n      <td>Super River</td>\n      <td>25</td>\n    </tr>\n    <tr>\n      <th>4</th>\n      <td>3995 23rd St</td>\n      <td>San Francisco</td>\n      <td>CA 94114</td>\n      <td>USA</td>\n      <td>Ben's Shop</td>\n      <td>10</td>\n    </tr>\n    <tr>\n      <th>5</th>\n      <td>1056 Sanchez St</td>\n      <td>San Francisco</td>\n      <td>California</td>\n      <td>USA</td>\n      <td>Sanchez</td>\n      <td>12</td>\n    </tr>\n    <tr>\n      <th>6</th>\n      <td>551 Alvarado St</td>\n      <td>San Francisco</td>\n      <td>CA 94114</td>\n      <td>USA</td>\n      <td>Richvalley</td>\n      <td>20</td>\n    </tr>\n  </tbody>\n</table>\n</div>"
     },
     "metadata": {},
     "output_type": "execute_result",
     "execution_count": 15
    }
   ],
   "source": [
    "df5"
   ]
  },
  {
   "cell_type": "code",
   "execution_count": 16,
   "metadata": {
    "pycharm": {
     "is_executing": false
    }
   },
   "outputs": [
    {
     "data": {
      "text/plain": "            Address           City             State          Name  Employees\nID                                                                           \n1      3666 21st St  San Francisco          CA 94114       Madeira          8\n2    735 Dolores St  San Francisco          CA 94119   Bready Shop         15\n3       332 Hill St  San Francisco  California 94114   Super River         25\n4      3995 23rd St  San Francisco          CA 94114    Ben's Shop         10\n5   1056 Sanchez St  San Francisco        California       Sanchez         12\n6   551 Alvarado St  San Francisco          CA 94114    Richvalley         20",
      "text/html": "<div>\n<style scoped>\n    .dataframe tbody tr th:only-of-type {\n        vertical-align: middle;\n    }\n\n    .dataframe tbody tr th {\n        vertical-align: top;\n    }\n\n    .dataframe thead th {\n        text-align: right;\n    }\n</style>\n<table border=\"1\" class=\"dataframe\">\n  <thead>\n    <tr style=\"text-align: right;\">\n      <th></th>\n      <th>Address</th>\n      <th>City</th>\n      <th>State</th>\n      <th>Name</th>\n      <th>Employees</th>\n    </tr>\n    <tr>\n      <th>ID</th>\n      <th></th>\n      <th></th>\n      <th></th>\n      <th></th>\n      <th></th>\n    </tr>\n  </thead>\n  <tbody>\n    <tr>\n      <th>1</th>\n      <td>3666 21st St</td>\n      <td>San Francisco</td>\n      <td>CA 94114</td>\n      <td>Madeira</td>\n      <td>8</td>\n    </tr>\n    <tr>\n      <th>2</th>\n      <td>735 Dolores St</td>\n      <td>San Francisco</td>\n      <td>CA 94119</td>\n      <td>Bready Shop</td>\n      <td>15</td>\n    </tr>\n    <tr>\n      <th>3</th>\n      <td>332 Hill St</td>\n      <td>San Francisco</td>\n      <td>California 94114</td>\n      <td>Super River</td>\n      <td>25</td>\n    </tr>\n    <tr>\n      <th>4</th>\n      <td>3995 23rd St</td>\n      <td>San Francisco</td>\n      <td>CA 94114</td>\n      <td>Ben's Shop</td>\n      <td>10</td>\n    </tr>\n    <tr>\n      <th>5</th>\n      <td>1056 Sanchez St</td>\n      <td>San Francisco</td>\n      <td>California</td>\n      <td>Sanchez</td>\n      <td>12</td>\n    </tr>\n    <tr>\n      <th>6</th>\n      <td>551 Alvarado St</td>\n      <td>San Francisco</td>\n      <td>CA 94114</td>\n      <td>Richvalley</td>\n      <td>20</td>\n    </tr>\n  </tbody>\n</table>\n</div>"
     },
     "metadata": {},
     "output_type": "execute_result",
     "execution_count": 16
    }
   ],
   "source": [
    "df5.drop(\"Country\", 1)"
   ]
  },
  {
   "cell_type": "code",
   "execution_count": 17,
   "metadata": {
    "pycharm": {
     "is_executing": false
    }
   },
   "outputs": [
    {
     "data": {
      "text/plain": "            Address           City             State Country          Name  \\\nID                                                                           \n1      3666 21st St  San Francisco          CA 94114     USA       Madeira   \n2    735 Dolores St  San Francisco          CA 94119     USA   Bready Shop   \n3       332 Hill St  San Francisco  California 94114     USA   Super River   \n4      3995 23rd St  San Francisco          CA 94114     USA    Ben's Shop   \n6   551 Alvarado St  San Francisco          CA 94114     USA    Richvalley   \n\n    Employees  \nID             \n1           8  \n2          15  \n3          25  \n4          10  \n6          20  ",
      "text/html": "<div>\n<style scoped>\n    .dataframe tbody tr th:only-of-type {\n        vertical-align: middle;\n    }\n\n    .dataframe tbody tr th {\n        vertical-align: top;\n    }\n\n    .dataframe thead th {\n        text-align: right;\n    }\n</style>\n<table border=\"1\" class=\"dataframe\">\n  <thead>\n    <tr style=\"text-align: right;\">\n      <th></th>\n      <th>Address</th>\n      <th>City</th>\n      <th>State</th>\n      <th>Country</th>\n      <th>Name</th>\n      <th>Employees</th>\n    </tr>\n    <tr>\n      <th>ID</th>\n      <th></th>\n      <th></th>\n      <th></th>\n      <th></th>\n      <th></th>\n      <th></th>\n    </tr>\n  </thead>\n  <tbody>\n    <tr>\n      <th>1</th>\n      <td>3666 21st St</td>\n      <td>San Francisco</td>\n      <td>CA 94114</td>\n      <td>USA</td>\n      <td>Madeira</td>\n      <td>8</td>\n    </tr>\n    <tr>\n      <th>2</th>\n      <td>735 Dolores St</td>\n      <td>San Francisco</td>\n      <td>CA 94119</td>\n      <td>USA</td>\n      <td>Bready Shop</td>\n      <td>15</td>\n    </tr>\n    <tr>\n      <th>3</th>\n      <td>332 Hill St</td>\n      <td>San Francisco</td>\n      <td>California 94114</td>\n      <td>USA</td>\n      <td>Super River</td>\n      <td>25</td>\n    </tr>\n    <tr>\n      <th>4</th>\n      <td>3995 23rd St</td>\n      <td>San Francisco</td>\n      <td>CA 94114</td>\n      <td>USA</td>\n      <td>Ben's Shop</td>\n      <td>10</td>\n    </tr>\n    <tr>\n      <th>6</th>\n      <td>551 Alvarado St</td>\n      <td>San Francisco</td>\n      <td>CA 94114</td>\n      <td>USA</td>\n      <td>Richvalley</td>\n      <td>20</td>\n    </tr>\n  </tbody>\n</table>\n</div>"
     },
     "metadata": {},
     "output_type": "execute_result",
     "execution_count": 17
    }
   ],
   "source": [
    "df5.drop(5)"
   ]
  },
  {
   "cell_type": "code",
   "execution_count": 18,
   "metadata": {
    "pycharm": {
     "is_executing": false
    }
   },
   "outputs": [
    {
     "data": {
      "text/plain": "           Address           City     State Country         Name  Employees\nID                                                                         \n1     3666 21st St  San Francisco  CA 94114     USA      Madeira          8\n2   735 Dolores St  San Francisco  CA 94119     USA  Bready Shop         15",
      "text/html": "<div>\n<style scoped>\n    .dataframe tbody tr th:only-of-type {\n        vertical-align: middle;\n    }\n\n    .dataframe tbody tr th {\n        vertical-align: top;\n    }\n\n    .dataframe thead th {\n        text-align: right;\n    }\n</style>\n<table border=\"1\" class=\"dataframe\">\n  <thead>\n    <tr style=\"text-align: right;\">\n      <th></th>\n      <th>Address</th>\n      <th>City</th>\n      <th>State</th>\n      <th>Country</th>\n      <th>Name</th>\n      <th>Employees</th>\n    </tr>\n    <tr>\n      <th>ID</th>\n      <th></th>\n      <th></th>\n      <th></th>\n      <th></th>\n      <th></th>\n      <th></th>\n    </tr>\n  </thead>\n  <tbody>\n    <tr>\n      <th>1</th>\n      <td>3666 21st St</td>\n      <td>San Francisco</td>\n      <td>CA 94114</td>\n      <td>USA</td>\n      <td>Madeira</td>\n      <td>8</td>\n    </tr>\n    <tr>\n      <th>2</th>\n      <td>735 Dolores St</td>\n      <td>San Francisco</td>\n      <td>CA 94119</td>\n      <td>USA</td>\n      <td>Bready Shop</td>\n      <td>15</td>\n    </tr>\n  </tbody>\n</table>\n</div>"
     },
     "metadata": {},
     "output_type": "execute_result",
     "execution_count": 18
    }
   ],
   "source": [
    "df5.drop(df5.index[2:])"
   ]
  },
  {
   "cell_type": "code",
   "execution_count": 19,
   "metadata": {
    "pycharm": {
     "is_executing": false
    }
   },
   "outputs": [
    {
     "data": {
      "text/plain": "            Address           City          Name  Employees\nID                                                         \n1      3666 21st St  San Francisco       Madeira          8\n2    735 Dolores St  San Francisco   Bready Shop         15\n3       332 Hill St  San Francisco   Super River         25\n4      3995 23rd St  San Francisco    Ben's Shop         10\n5   1056 Sanchez St  San Francisco       Sanchez         12\n6   551 Alvarado St  San Francisco    Richvalley         20",
      "text/html": "<div>\n<style scoped>\n    .dataframe tbody tr th:only-of-type {\n        vertical-align: middle;\n    }\n\n    .dataframe tbody tr th {\n        vertical-align: top;\n    }\n\n    .dataframe thead th {\n        text-align: right;\n    }\n</style>\n<table border=\"1\" class=\"dataframe\">\n  <thead>\n    <tr style=\"text-align: right;\">\n      <th></th>\n      <th>Address</th>\n      <th>City</th>\n      <th>Name</th>\n      <th>Employees</th>\n    </tr>\n    <tr>\n      <th>ID</th>\n      <th></th>\n      <th></th>\n      <th></th>\n      <th></th>\n    </tr>\n  </thead>\n  <tbody>\n    <tr>\n      <th>1</th>\n      <td>3666 21st St</td>\n      <td>San Francisco</td>\n      <td>Madeira</td>\n      <td>8</td>\n    </tr>\n    <tr>\n      <th>2</th>\n      <td>735 Dolores St</td>\n      <td>San Francisco</td>\n      <td>Bready Shop</td>\n      <td>15</td>\n    </tr>\n    <tr>\n      <th>3</th>\n      <td>332 Hill St</td>\n      <td>San Francisco</td>\n      <td>Super River</td>\n      <td>25</td>\n    </tr>\n    <tr>\n      <th>4</th>\n      <td>3995 23rd St</td>\n      <td>San Francisco</td>\n      <td>Ben's Shop</td>\n      <td>10</td>\n    </tr>\n    <tr>\n      <th>5</th>\n      <td>1056 Sanchez St</td>\n      <td>San Francisco</td>\n      <td>Sanchez</td>\n      <td>12</td>\n    </tr>\n    <tr>\n      <th>6</th>\n      <td>551 Alvarado St</td>\n      <td>San Francisco</td>\n      <td>Richvalley</td>\n      <td>20</td>\n    </tr>\n  </tbody>\n</table>\n</div>"
     },
     "metadata": {},
     "output_type": "execute_result",
     "execution_count": 19
    }
   ],
   "source": [
    "df5.drop(df5.columns[2:4], 1)"
   ]
  },
  {
   "cell_type": "code",
   "execution_count": 20,
   "metadata": {
    "pycharm": {
     "is_executing": false
    }
   },
   "outputs": [],
   "source": [
    "df5[\"Continent\"] = df5.shape[0] * [\"North America\"]"
   ]
  },
  {
   "cell_type": "code",
   "execution_count": 21,
   "metadata": {
    "pycharm": {
     "is_executing": false
    }
   },
   "outputs": [
    {
     "data": {
      "text/plain": "            Address           City             State Country          Name  \\\nID                                                                           \n1      3666 21st St  San Francisco          CA 94114     USA       Madeira   \n2    735 Dolores St  San Francisco          CA 94119     USA   Bready Shop   \n3       332 Hill St  San Francisco  California 94114     USA   Super River   \n4      3995 23rd St  San Francisco          CA 94114     USA    Ben's Shop   \n5   1056 Sanchez St  San Francisco        California     USA       Sanchez   \n6   551 Alvarado St  San Francisco          CA 94114     USA    Richvalley   \n\n    Employees      Continent  \nID                            \n1           8  North America  \n2          15  North America  \n3          25  North America  \n4          10  North America  \n5          12  North America  \n6          20  North America  ",
      "text/html": "<div>\n<style scoped>\n    .dataframe tbody tr th:only-of-type {\n        vertical-align: middle;\n    }\n\n    .dataframe tbody tr th {\n        vertical-align: top;\n    }\n\n    .dataframe thead th {\n        text-align: right;\n    }\n</style>\n<table border=\"1\" class=\"dataframe\">\n  <thead>\n    <tr style=\"text-align: right;\">\n      <th></th>\n      <th>Address</th>\n      <th>City</th>\n      <th>State</th>\n      <th>Country</th>\n      <th>Name</th>\n      <th>Employees</th>\n      <th>Continent</th>\n    </tr>\n    <tr>\n      <th>ID</th>\n      <th></th>\n      <th></th>\n      <th></th>\n      <th></th>\n      <th></th>\n      <th></th>\n      <th></th>\n    </tr>\n  </thead>\n  <tbody>\n    <tr>\n      <th>1</th>\n      <td>3666 21st St</td>\n      <td>San Francisco</td>\n      <td>CA 94114</td>\n      <td>USA</td>\n      <td>Madeira</td>\n      <td>8</td>\n      <td>North America</td>\n    </tr>\n    <tr>\n      <th>2</th>\n      <td>735 Dolores St</td>\n      <td>San Francisco</td>\n      <td>CA 94119</td>\n      <td>USA</td>\n      <td>Bready Shop</td>\n      <td>15</td>\n      <td>North America</td>\n    </tr>\n    <tr>\n      <th>3</th>\n      <td>332 Hill St</td>\n      <td>San Francisco</td>\n      <td>California 94114</td>\n      <td>USA</td>\n      <td>Super River</td>\n      <td>25</td>\n      <td>North America</td>\n    </tr>\n    <tr>\n      <th>4</th>\n      <td>3995 23rd St</td>\n      <td>San Francisco</td>\n      <td>CA 94114</td>\n      <td>USA</td>\n      <td>Ben's Shop</td>\n      <td>10</td>\n      <td>North America</td>\n    </tr>\n    <tr>\n      <th>5</th>\n      <td>1056 Sanchez St</td>\n      <td>San Francisco</td>\n      <td>California</td>\n      <td>USA</td>\n      <td>Sanchez</td>\n      <td>12</td>\n      <td>North America</td>\n    </tr>\n    <tr>\n      <th>6</th>\n      <td>551 Alvarado St</td>\n      <td>San Francisco</td>\n      <td>CA 94114</td>\n      <td>USA</td>\n      <td>Richvalley</td>\n      <td>20</td>\n      <td>North America</td>\n    </tr>\n  </tbody>\n</table>\n</div>"
     },
     "metadata": {},
     "output_type": "execute_result",
     "execution_count": 21
    }
   ],
   "source": [
    "df5"
   ]
  },
  {
   "cell_type": "code",
   "execution_count": 22,
   "metadata": {
    "pycharm": {
     "is_executing": false
    }
   },
   "outputs": [],
   "source": [
    "df5[\"Comment\"] = df5.shape[0] * [\"\"]"
   ]
  },
  {
   "cell_type": "code",
   "execution_count": 23,
   "metadata": {
    "pycharm": {
     "is_executing": false
    }
   },
   "outputs": [
    {
     "data": {
      "text/plain": "            Address           City             State Country          Name  \\\nID                                                                           \n1      3666 21st St  San Francisco          CA 94114     USA       Madeira   \n2    735 Dolores St  San Francisco          CA 94119     USA   Bready Shop   \n3       332 Hill St  San Francisco  California 94114     USA   Super River   \n4      3995 23rd St  San Francisco          CA 94114     USA    Ben's Shop   \n5   1056 Sanchez St  San Francisco        California     USA       Sanchez   \n6   551 Alvarado St  San Francisco          CA 94114     USA    Richvalley   \n\n    Employees      Continent Comment  \nID                                    \n1           8  North America          \n2          15  North America          \n3          25  North America          \n4          10  North America          \n5          12  North America          \n6          20  North America          ",
      "text/html": "<div>\n<style scoped>\n    .dataframe tbody tr th:only-of-type {\n        vertical-align: middle;\n    }\n\n    .dataframe tbody tr th {\n        vertical-align: top;\n    }\n\n    .dataframe thead th {\n        text-align: right;\n    }\n</style>\n<table border=\"1\" class=\"dataframe\">\n  <thead>\n    <tr style=\"text-align: right;\">\n      <th></th>\n      <th>Address</th>\n      <th>City</th>\n      <th>State</th>\n      <th>Country</th>\n      <th>Name</th>\n      <th>Employees</th>\n      <th>Continent</th>\n      <th>Comment</th>\n    </tr>\n    <tr>\n      <th>ID</th>\n      <th></th>\n      <th></th>\n      <th></th>\n      <th></th>\n      <th></th>\n      <th></th>\n      <th></th>\n      <th></th>\n    </tr>\n  </thead>\n  <tbody>\n    <tr>\n      <th>1</th>\n      <td>3666 21st St</td>\n      <td>San Francisco</td>\n      <td>CA 94114</td>\n      <td>USA</td>\n      <td>Madeira</td>\n      <td>8</td>\n      <td>North America</td>\n      <td></td>\n    </tr>\n    <tr>\n      <th>2</th>\n      <td>735 Dolores St</td>\n      <td>San Francisco</td>\n      <td>CA 94119</td>\n      <td>USA</td>\n      <td>Bready Shop</td>\n      <td>15</td>\n      <td>North America</td>\n      <td></td>\n    </tr>\n    <tr>\n      <th>3</th>\n      <td>332 Hill St</td>\n      <td>San Francisco</td>\n      <td>California 94114</td>\n      <td>USA</td>\n      <td>Super River</td>\n      <td>25</td>\n      <td>North America</td>\n      <td></td>\n    </tr>\n    <tr>\n      <th>4</th>\n      <td>3995 23rd St</td>\n      <td>San Francisco</td>\n      <td>CA 94114</td>\n      <td>USA</td>\n      <td>Ben's Shop</td>\n      <td>10</td>\n      <td>North America</td>\n      <td></td>\n    </tr>\n    <tr>\n      <th>5</th>\n      <td>1056 Sanchez St</td>\n      <td>San Francisco</td>\n      <td>California</td>\n      <td>USA</td>\n      <td>Sanchez</td>\n      <td>12</td>\n      <td>North America</td>\n      <td></td>\n    </tr>\n    <tr>\n      <th>6</th>\n      <td>551 Alvarado St</td>\n      <td>San Francisco</td>\n      <td>CA 94114</td>\n      <td>USA</td>\n      <td>Richvalley</td>\n      <td>20</td>\n      <td>North America</td>\n      <td></td>\n    </tr>\n  </tbody>\n</table>\n</div>"
     },
     "metadata": {},
     "output_type": "execute_result",
     "execution_count": 23
    }
   ],
   "source": [
    "df5"
   ]
  },
  {
   "cell_type": "code",
   "execution_count": 24,
   "metadata": {
    "pycharm": {
     "is_executing": false
    }
   },
   "outputs": [
    {
     "data": {
      "text/plain": "            Address           City             State Country          Name  \\\nID                                                                           \n1      3666 21st St  San Francisco          CA 94114     USA       Madeira   \n2    735 Dolores St  San Francisco          CA 94119     USA   Bready Shop   \n3       332 Hill St  San Francisco  California 94114     USA   Super River   \n4      3995 23rd St  San Francisco          CA 94114     USA    Ben's Shop   \n5   1056 Sanchez St  San Francisco        California     USA       Sanchez   \n6   551 Alvarado St  San Francisco          CA 94114     USA    Richvalley   \n\n    Employees      Continent                      Comment  \nID                                                         \n1           8  North America        Madeira, 3666 21st St  \n2          15  North America  Bready Shop, 735 Dolores St  \n3          25  North America     Super River, 332 Hill St  \n4          10  North America     Ben's Shop, 3995 23rd St  \n5          12  North America     Sanchez, 1056 Sanchez St  \n6          20  North America  Richvalley, 551 Alvarado St  ",
      "text/html": "<div>\n<style scoped>\n    .dataframe tbody tr th:only-of-type {\n        vertical-align: middle;\n    }\n\n    .dataframe tbody tr th {\n        vertical-align: top;\n    }\n\n    .dataframe thead th {\n        text-align: right;\n    }\n</style>\n<table border=\"1\" class=\"dataframe\">\n  <thead>\n    <tr style=\"text-align: right;\">\n      <th></th>\n      <th>Address</th>\n      <th>City</th>\n      <th>State</th>\n      <th>Country</th>\n      <th>Name</th>\n      <th>Employees</th>\n      <th>Continent</th>\n      <th>Comment</th>\n    </tr>\n    <tr>\n      <th>ID</th>\n      <th></th>\n      <th></th>\n      <th></th>\n      <th></th>\n      <th></th>\n      <th></th>\n      <th></th>\n      <th></th>\n    </tr>\n  </thead>\n  <tbody>\n    <tr>\n      <th>1</th>\n      <td>3666 21st St</td>\n      <td>San Francisco</td>\n      <td>CA 94114</td>\n      <td>USA</td>\n      <td>Madeira</td>\n      <td>8</td>\n      <td>North America</td>\n      <td>Madeira, 3666 21st St</td>\n    </tr>\n    <tr>\n      <th>2</th>\n      <td>735 Dolores St</td>\n      <td>San Francisco</td>\n      <td>CA 94119</td>\n      <td>USA</td>\n      <td>Bready Shop</td>\n      <td>15</td>\n      <td>North America</td>\n      <td>Bready Shop, 735 Dolores St</td>\n    </tr>\n    <tr>\n      <th>3</th>\n      <td>332 Hill St</td>\n      <td>San Francisco</td>\n      <td>California 94114</td>\n      <td>USA</td>\n      <td>Super River</td>\n      <td>25</td>\n      <td>North America</td>\n      <td>Super River, 332 Hill St</td>\n    </tr>\n    <tr>\n      <th>4</th>\n      <td>3995 23rd St</td>\n      <td>San Francisco</td>\n      <td>CA 94114</td>\n      <td>USA</td>\n      <td>Ben's Shop</td>\n      <td>10</td>\n      <td>North America</td>\n      <td>Ben's Shop, 3995 23rd St</td>\n    </tr>\n    <tr>\n      <th>5</th>\n      <td>1056 Sanchez St</td>\n      <td>San Francisco</td>\n      <td>California</td>\n      <td>USA</td>\n      <td>Sanchez</td>\n      <td>12</td>\n      <td>North America</td>\n      <td>Sanchez, 1056 Sanchez St</td>\n    </tr>\n    <tr>\n      <th>6</th>\n      <td>551 Alvarado St</td>\n      <td>San Francisco</td>\n      <td>CA 94114</td>\n      <td>USA</td>\n      <td>Richvalley</td>\n      <td>20</td>\n      <td>North America</td>\n      <td>Richvalley, 551 Alvarado St</td>\n    </tr>\n  </tbody>\n</table>\n</div>"
     },
     "metadata": {},
     "output_type": "execute_result",
     "execution_count": 24
    }
   ],
   "source": [
    "df5[\"Comment\"] = df5[\"Name\"] + \", \" + df5[\"Address\"]\n",
    "df5"
   ]
  },
  {
   "cell_type": "code",
   "execution_count": 26,
   "metadata": {
    "pycharm": {
     "is_executing": false,
     "name": "#%%\n"
    }
   },
   "outputs": [
    {
     "data": {
      "text/plain": "['ArcGIS',\n 'AzureMaps',\n 'BANFrance',\n 'Baidu',\n 'Bing',\n 'DataBC',\n 'GeoNames',\n 'GeocodeEarth',\n 'GeocodeFarm',\n 'Geolake',\n 'GoogleV3',\n 'Here',\n 'IGNFrance',\n 'LiveAddress',\n 'Location',\n 'MapBox',\n 'Nominatim',\n 'OpenCage',\n 'OpenMapQuest',\n 'Pelias',\n 'Photon',\n 'PickPoint',\n 'Point',\n 'Timezone',\n 'TomTom',\n 'What3Words',\n 'Yandex',\n '__builtins__',\n '__cached__',\n '__doc__',\n '__file__',\n '__loader__',\n '__name__',\n '__package__',\n '__path__',\n '__spec__',\n '__version__',\n 'compat',\n 'exc',\n 'format',\n 'geocoders',\n 'get_geocoder_for_service',\n 'location',\n 'point',\n 'timezone',\n 'units',\n 'util']"
     },
     "metadata": {},
     "output_type": "execute_result",
     "execution_count": 26
    }
   ],
   "source": [
    "import geopy\n",
    "dir(geopy)"
   ]
  },
  {
   "cell_type": "code",
   "execution_count": 30,
   "outputs": [],
   "source": [
    "from geopy.geocoders import ArcGIS\n",
    "arc = ArcGIS()"
   ],
   "metadata": {
    "collapsed": false,
    "pycharm": {
     "name": "#%%\n",
     "is_executing": false
    }
   }
  },
  {
   "cell_type": "code",
   "execution_count": 37,
   "outputs": [
    {
     "data": {
      "text/plain": "Location(551 Alvarado St, San Francisco, California, 94114, (37.75371876406616, -122.43323998612154, 0.0))"
     },
     "metadata": {},
     "output_type": "execute_result",
     "execution_count": 37
    }
   ],
   "source": [
    "l = arc.geocode(\"551 Alvarado St, San Francisco, CA 94114\")\n",
    "l"
   ],
   "metadata": {
    "collapsed": false,
    "pycharm": {
     "name": "#%%\n",
     "is_executing": false
    }
   }
  },
  {
   "cell_type": "code",
   "execution_count": 36,
   "outputs": [
    {
     "name": "stdout",
     "text": [
      "37.75371876406616, -122.43323998612154\n"
     ],
     "output_type": "stream"
    }
   ],
   "source": [
    "print(f\"{l.latitude}, {l.longitude}\")"
   ],
   "metadata": {
    "collapsed": false,
    "pycharm": {
     "name": "#%%\n",
     "is_executing": false
    }
   }
  },
  {
   "cell_type": "code",
   "execution_count": 40,
   "outputs": [
    {
     "data": {
      "text/plain": "Index(['Address', 'City', 'State', 'Country', 'Name', 'Employees', 'Continent',\n       'Comment'],\n      dtype='object')"
     },
     "metadata": {},
     "output_type": "execute_result",
     "execution_count": 40
    }
   ],
   "source": [
    "df5.columns"
   ],
   "metadata": {
    "collapsed": false,
    "pycharm": {
     "name": "#%%\n",
     "is_executing": false
    }
   }
  },
  {
   "cell_type": "code",
   "execution_count": 46,
   "outputs": [
    {
     "data": {
      "text/plain": "            Address           City             State Country          Name  \\\nID                                                                           \n1      3666 21st St  San Francisco          CA 94114     USA       Madeira   \n2    735 Dolores St  San Francisco          CA 94119     USA   Bready Shop   \n3       332 Hill St  San Francisco  California 94114     USA   Super River   \n4      3995 23rd St  San Francisco          CA 94114     USA    Ben's Shop   \n5   1056 Sanchez St  San Francisco        California     USA       Sanchez   \n6   551 Alvarado St  San Francisco          CA 94114     USA    Richvalley   \n\n    Employees      Continent                      Comment  \\\nID                                                          \n1           8  North America        Madeira, 3666 21st St   \n2          15  North America  Bready Shop, 735 Dolores St   \n3          25  North America     Super River, 332 Hill St   \n4          10  North America     Ben's Shop, 3995 23rd St   \n5          12  North America     Sanchez, 1056 Sanchez St   \n6          20  North America  Richvalley, 551 Alvarado St   \n\n                           Full address  \nID                                       \n1      3666 21st St, San Francisco, USA  \n2    735 Dolores St, San Francisco, USA  \n3       332 Hill St, San Francisco, USA  \n4      3995 23rd St, San Francisco, USA  \n5   1056 Sanchez St, San Francisco, USA  \n6   551 Alvarado St, San Francisco, USA  ",
      "text/html": "<div>\n<style scoped>\n    .dataframe tbody tr th:only-of-type {\n        vertical-align: middle;\n    }\n\n    .dataframe tbody tr th {\n        vertical-align: top;\n    }\n\n    .dataframe thead th {\n        text-align: right;\n    }\n</style>\n<table border=\"1\" class=\"dataframe\">\n  <thead>\n    <tr style=\"text-align: right;\">\n      <th></th>\n      <th>Address</th>\n      <th>City</th>\n      <th>State</th>\n      <th>Country</th>\n      <th>Name</th>\n      <th>Employees</th>\n      <th>Continent</th>\n      <th>Comment</th>\n      <th>Full address</th>\n    </tr>\n    <tr>\n      <th>ID</th>\n      <th></th>\n      <th></th>\n      <th></th>\n      <th></th>\n      <th></th>\n      <th></th>\n      <th></th>\n      <th></th>\n      <th></th>\n    </tr>\n  </thead>\n  <tbody>\n    <tr>\n      <th>1</th>\n      <td>3666 21st St</td>\n      <td>San Francisco</td>\n      <td>CA 94114</td>\n      <td>USA</td>\n      <td>Madeira</td>\n      <td>8</td>\n      <td>North America</td>\n      <td>Madeira, 3666 21st St</td>\n      <td>3666 21st St, San Francisco, USA</td>\n    </tr>\n    <tr>\n      <th>2</th>\n      <td>735 Dolores St</td>\n      <td>San Francisco</td>\n      <td>CA 94119</td>\n      <td>USA</td>\n      <td>Bready Shop</td>\n      <td>15</td>\n      <td>North America</td>\n      <td>Bready Shop, 735 Dolores St</td>\n      <td>735 Dolores St, San Francisco, USA</td>\n    </tr>\n    <tr>\n      <th>3</th>\n      <td>332 Hill St</td>\n      <td>San Francisco</td>\n      <td>California 94114</td>\n      <td>USA</td>\n      <td>Super River</td>\n      <td>25</td>\n      <td>North America</td>\n      <td>Super River, 332 Hill St</td>\n      <td>332 Hill St, San Francisco, USA</td>\n    </tr>\n    <tr>\n      <th>4</th>\n      <td>3995 23rd St</td>\n      <td>San Francisco</td>\n      <td>CA 94114</td>\n      <td>USA</td>\n      <td>Ben's Shop</td>\n      <td>10</td>\n      <td>North America</td>\n      <td>Ben's Shop, 3995 23rd St</td>\n      <td>3995 23rd St, San Francisco, USA</td>\n    </tr>\n    <tr>\n      <th>5</th>\n      <td>1056 Sanchez St</td>\n      <td>San Francisco</td>\n      <td>California</td>\n      <td>USA</td>\n      <td>Sanchez</td>\n      <td>12</td>\n      <td>North America</td>\n      <td>Sanchez, 1056 Sanchez St</td>\n      <td>1056 Sanchez St, San Francisco, USA</td>\n    </tr>\n    <tr>\n      <th>6</th>\n      <td>551 Alvarado St</td>\n      <td>San Francisco</td>\n      <td>CA 94114</td>\n      <td>USA</td>\n      <td>Richvalley</td>\n      <td>20</td>\n      <td>North America</td>\n      <td>Richvalley, 551 Alvarado St</td>\n      <td>551 Alvarado St, San Francisco, USA</td>\n    </tr>\n  </tbody>\n</table>\n</div>"
     },
     "metadata": {},
     "output_type": "execute_result",
     "execution_count": 46
    }
   ],
   "source": [
    "df5[\"Full address\"] = df5[\"Address\"] + \", \" + df5[\"City\"] + \", \" + df5[\"Country\"]\n",
    "df5"
   ],
   "metadata": {
    "collapsed": false,
    "pycharm": {
     "name": "#%%\n",
     "is_executing": false
    }
   }
  },
  {
   "cell_type": "code",
   "execution_count": 48,
   "outputs": [
    {
     "data": {
      "text/plain": "            Address           City             State Country          Name  \\\nID                                                                           \n1      3666 21st St  San Francisco          CA 94114     USA       Madeira   \n2    735 Dolores St  San Francisco          CA 94119     USA   Bready Shop   \n3       332 Hill St  San Francisco  California 94114     USA   Super River   \n4      3995 23rd St  San Francisco          CA 94114     USA    Ben's Shop   \n5   1056 Sanchez St  San Francisco        California     USA       Sanchez   \n6   551 Alvarado St  San Francisco          CA 94114     USA    Richvalley   \n\n    Employees      Continent                      Comment  \\\nID                                                          \n1           8  North America        Madeira, 3666 21st St   \n2          15  North America  Bready Shop, 735 Dolores St   \n3          25  North America     Super River, 332 Hill St   \n4          10  North America     Ben's Shop, 3995 23rd St   \n5          12  North America     Sanchez, 1056 Sanchez St   \n6          20  North America  Richvalley, 551 Alvarado St   \n\n                           Full address  \\\nID                                        \n1      3666 21st St, San Francisco, USA   \n2    735 Dolores St, San Francisco, USA   \n3       332 Hill St, San Francisco, USA   \n4      3995 23rd St, San Francisco, USA   \n5   1056 Sanchez St, San Francisco, USA   \n6   551 Alvarado St, San Francisco, USA   \n\n                                             Location  \nID                                                     \n1   (3666 21st St, San Francisco, California, 9411...  \n2   (735 Dolores St, San Francisco, California, 94...  \n3   (332 Hill St, San Francisco, California, 94114...  \n4   (3995 23rd St, San Francisco, California, 9411...  \n5   (1056 Sanchez St, San Francisco, California, 9...  \n6   (551 Alvarado St, San Francisco, California, 9...  ",
      "text/html": "<div>\n<style scoped>\n    .dataframe tbody tr th:only-of-type {\n        vertical-align: middle;\n    }\n\n    .dataframe tbody tr th {\n        vertical-align: top;\n    }\n\n    .dataframe thead th {\n        text-align: right;\n    }\n</style>\n<table border=\"1\" class=\"dataframe\">\n  <thead>\n    <tr style=\"text-align: right;\">\n      <th></th>\n      <th>Address</th>\n      <th>City</th>\n      <th>State</th>\n      <th>Country</th>\n      <th>Name</th>\n      <th>Employees</th>\n      <th>Continent</th>\n      <th>Comment</th>\n      <th>Full address</th>\n      <th>Location</th>\n    </tr>\n    <tr>\n      <th>ID</th>\n      <th></th>\n      <th></th>\n      <th></th>\n      <th></th>\n      <th></th>\n      <th></th>\n      <th></th>\n      <th></th>\n      <th></th>\n      <th></th>\n    </tr>\n  </thead>\n  <tbody>\n    <tr>\n      <th>1</th>\n      <td>3666 21st St</td>\n      <td>San Francisco</td>\n      <td>CA 94114</td>\n      <td>USA</td>\n      <td>Madeira</td>\n      <td>8</td>\n      <td>North America</td>\n      <td>Madeira, 3666 21st St</td>\n      <td>3666 21st St, San Francisco, USA</td>\n      <td>(3666 21st St, San Francisco, California, 9411...</td>\n    </tr>\n    <tr>\n      <th>2</th>\n      <td>735 Dolores St</td>\n      <td>San Francisco</td>\n      <td>CA 94119</td>\n      <td>USA</td>\n      <td>Bready Shop</td>\n      <td>15</td>\n      <td>North America</td>\n      <td>Bready Shop, 735 Dolores St</td>\n      <td>735 Dolores St, San Francisco, USA</td>\n      <td>(735 Dolores St, San Francisco, California, 94...</td>\n    </tr>\n    <tr>\n      <th>3</th>\n      <td>332 Hill St</td>\n      <td>San Francisco</td>\n      <td>California 94114</td>\n      <td>USA</td>\n      <td>Super River</td>\n      <td>25</td>\n      <td>North America</td>\n      <td>Super River, 332 Hill St</td>\n      <td>332 Hill St, San Francisco, USA</td>\n      <td>(332 Hill St, San Francisco, California, 94114...</td>\n    </tr>\n    <tr>\n      <th>4</th>\n      <td>3995 23rd St</td>\n      <td>San Francisco</td>\n      <td>CA 94114</td>\n      <td>USA</td>\n      <td>Ben's Shop</td>\n      <td>10</td>\n      <td>North America</td>\n      <td>Ben's Shop, 3995 23rd St</td>\n      <td>3995 23rd St, San Francisco, USA</td>\n      <td>(3995 23rd St, San Francisco, California, 9411...</td>\n    </tr>\n    <tr>\n      <th>5</th>\n      <td>1056 Sanchez St</td>\n      <td>San Francisco</td>\n      <td>California</td>\n      <td>USA</td>\n      <td>Sanchez</td>\n      <td>12</td>\n      <td>North America</td>\n      <td>Sanchez, 1056 Sanchez St</td>\n      <td>1056 Sanchez St, San Francisco, USA</td>\n      <td>(1056 Sanchez St, San Francisco, California, 9...</td>\n    </tr>\n    <tr>\n      <th>6</th>\n      <td>551 Alvarado St</td>\n      <td>San Francisco</td>\n      <td>CA 94114</td>\n      <td>USA</td>\n      <td>Richvalley</td>\n      <td>20</td>\n      <td>North America</td>\n      <td>Richvalley, 551 Alvarado St</td>\n      <td>551 Alvarado St, San Francisco, USA</td>\n      <td>(551 Alvarado St, San Francisco, California, 9...</td>\n    </tr>\n  </tbody>\n</table>\n</div>"
     },
     "metadata": {},
     "output_type": "execute_result",
     "execution_count": 48
    }
   ],
   "source": [
    "df5[\"Location\"] = df5[\"Full address\"].apply(arc.geocode)\n",
    "df5"
   ],
   "metadata": {
    "collapsed": false,
    "pycharm": {
     "name": "#%%\n",
     "is_executing": false
    }
   }
  },
  {
   "cell_type": "code",
   "execution_count": 49,
   "outputs": [
    {
     "data": {
      "text/plain": "            Address           City             State Country          Name  \\\nID                                                                           \n1      3666 21st St  San Francisco          CA 94114     USA       Madeira   \n2    735 Dolores St  San Francisco          CA 94119     USA   Bready Shop   \n3       332 Hill St  San Francisco  California 94114     USA   Super River   \n4      3995 23rd St  San Francisco          CA 94114     USA    Ben's Shop   \n5   1056 Sanchez St  San Francisco        California     USA       Sanchez   \n6   551 Alvarado St  San Francisco          CA 94114     USA    Richvalley   \n\n    Employees      Continent                      Comment  \\\nID                                                          \n1           8  North America        Madeira, 3666 21st St   \n2          15  North America  Bready Shop, 735 Dolores St   \n3          25  North America     Super River, 332 Hill St   \n4          10  North America     Ben's Shop, 3995 23rd St   \n5          12  North America     Sanchez, 1056 Sanchez St   \n6          20  North America  Richvalley, 551 Alvarado St   \n\n                           Full address  \\\nID                                        \n1      3666 21st St, San Francisco, USA   \n2    735 Dolores St, San Francisco, USA   \n3       332 Hill St, San Francisco, USA   \n4      3995 23rd St, San Francisco, USA   \n5   1056 Sanchez St, San Francisco, USA   \n6   551 Alvarado St, San Francisco, USA   \n\n                                             Location   Latitude   Longitude  \nID                                                                            \n1   (3666 21st St, San Francisco, California, 9411...  37.756450 -122.429364  \n2   (735 Dolores St, San Francisco, California, 94...  37.757796 -122.425597  \n3   (332 Hill St, San Francisco, California, 94114...  37.755648 -122.428803  \n4   (3995 23rd St, San Francisco, California, 9411...  37.752991 -122.431702  \n5   (1056 Sanchez St, San Francisco, California, 9...  37.752129 -122.430028  \n6   (551 Alvarado St, San Francisco, California, 9...  37.753719 -122.433240  ",
      "text/html": "<div>\n<style scoped>\n    .dataframe tbody tr th:only-of-type {\n        vertical-align: middle;\n    }\n\n    .dataframe tbody tr th {\n        vertical-align: top;\n    }\n\n    .dataframe thead th {\n        text-align: right;\n    }\n</style>\n<table border=\"1\" class=\"dataframe\">\n  <thead>\n    <tr style=\"text-align: right;\">\n      <th></th>\n      <th>Address</th>\n      <th>City</th>\n      <th>State</th>\n      <th>Country</th>\n      <th>Name</th>\n      <th>Employees</th>\n      <th>Continent</th>\n      <th>Comment</th>\n      <th>Full address</th>\n      <th>Location</th>\n      <th>Latitude</th>\n      <th>Longitude</th>\n    </tr>\n    <tr>\n      <th>ID</th>\n      <th></th>\n      <th></th>\n      <th></th>\n      <th></th>\n      <th></th>\n      <th></th>\n      <th></th>\n      <th></th>\n      <th></th>\n      <th></th>\n      <th></th>\n      <th></th>\n    </tr>\n  </thead>\n  <tbody>\n    <tr>\n      <th>1</th>\n      <td>3666 21st St</td>\n      <td>San Francisco</td>\n      <td>CA 94114</td>\n      <td>USA</td>\n      <td>Madeira</td>\n      <td>8</td>\n      <td>North America</td>\n      <td>Madeira, 3666 21st St</td>\n      <td>3666 21st St, San Francisco, USA</td>\n      <td>(3666 21st St, San Francisco, California, 9411...</td>\n      <td>37.756450</td>\n      <td>-122.429364</td>\n    </tr>\n    <tr>\n      <th>2</th>\n      <td>735 Dolores St</td>\n      <td>San Francisco</td>\n      <td>CA 94119</td>\n      <td>USA</td>\n      <td>Bready Shop</td>\n      <td>15</td>\n      <td>North America</td>\n      <td>Bready Shop, 735 Dolores St</td>\n      <td>735 Dolores St, San Francisco, USA</td>\n      <td>(735 Dolores St, San Francisco, California, 94...</td>\n      <td>37.757796</td>\n      <td>-122.425597</td>\n    </tr>\n    <tr>\n      <th>3</th>\n      <td>332 Hill St</td>\n      <td>San Francisco</td>\n      <td>California 94114</td>\n      <td>USA</td>\n      <td>Super River</td>\n      <td>25</td>\n      <td>North America</td>\n      <td>Super River, 332 Hill St</td>\n      <td>332 Hill St, San Francisco, USA</td>\n      <td>(332 Hill St, San Francisco, California, 94114...</td>\n      <td>37.755648</td>\n      <td>-122.428803</td>\n    </tr>\n    <tr>\n      <th>4</th>\n      <td>3995 23rd St</td>\n      <td>San Francisco</td>\n      <td>CA 94114</td>\n      <td>USA</td>\n      <td>Ben's Shop</td>\n      <td>10</td>\n      <td>North America</td>\n      <td>Ben's Shop, 3995 23rd St</td>\n      <td>3995 23rd St, San Francisco, USA</td>\n      <td>(3995 23rd St, San Francisco, California, 9411...</td>\n      <td>37.752991</td>\n      <td>-122.431702</td>\n    </tr>\n    <tr>\n      <th>5</th>\n      <td>1056 Sanchez St</td>\n      <td>San Francisco</td>\n      <td>California</td>\n      <td>USA</td>\n      <td>Sanchez</td>\n      <td>12</td>\n      <td>North America</td>\n      <td>Sanchez, 1056 Sanchez St</td>\n      <td>1056 Sanchez St, San Francisco, USA</td>\n      <td>(1056 Sanchez St, San Francisco, California, 9...</td>\n      <td>37.752129</td>\n      <td>-122.430028</td>\n    </tr>\n    <tr>\n      <th>6</th>\n      <td>551 Alvarado St</td>\n      <td>San Francisco</td>\n      <td>CA 94114</td>\n      <td>USA</td>\n      <td>Richvalley</td>\n      <td>20</td>\n      <td>North America</td>\n      <td>Richvalley, 551 Alvarado St</td>\n      <td>551 Alvarado St, San Francisco, USA</td>\n      <td>(551 Alvarado St, San Francisco, California, 9...</td>\n      <td>37.753719</td>\n      <td>-122.433240</td>\n    </tr>\n  </tbody>\n</table>\n</div>"
     },
     "metadata": {},
     "output_type": "execute_result",
     "execution_count": 49
    }
   ],
   "source": [
    "df5[\"Latitude\"] = df5[\"Location\"].apply(lambda x: x.latitude if x else None)\n",
    "df5[\"Longitude\"] = df5[\"Location\"].apply(lambda x: x.longitude if x else None)\n",
    "df5"
   ],
   "metadata": {
    "collapsed": false,
    "pycharm": {
     "name": "#%%\n",
     "is_executing": false
    }
   }
  },
  {
   "cell_type": "code",
   "execution_count": null,
   "outputs": [],
   "source": [
    "\n"
   ],
   "metadata": {
    "collapsed": false,
    "pycharm": {
     "name": "#%%\n"
    }
   }
  }
 ],
 "metadata": {
  "kernelspec": {
   "display_name": "Python 3",
   "language": "python",
   "name": "python3"
  },
  "language_info": {
   "codemirror_mode": {
    "name": "ipython",
    "version": 3
   },
   "file_extension": ".py",
   "mimetype": "text/x-python",
   "name": "python",
   "nbconvert_exporter": "python",
   "pygments_lexer": "ipython3",
   "version": "3.7.4"
  },
  "pycharm": {
   "stem_cell": {
    "cell_type": "raw",
    "source": [],
    "metadata": {
     "collapsed": false
    }
   }
  }
 },
 "nbformat": 4,
 "nbformat_minor": 4
}